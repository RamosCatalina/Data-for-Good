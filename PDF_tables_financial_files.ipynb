{
  "nbformat": 4,
  "nbformat_minor": 0,
  "metadata": {
    "colab": {
      "name": "PDF tables- financial files.ipynb",
      "provenance": [],
      "collapsed_sections": [],
      "authorship_tag": "ABX9TyPDbT6PMMEJ8mziNY4eOcsC",
      "include_colab_link": true
    },
    "kernelspec": {
      "name": "python3",
      "display_name": "Python 3"
    },
    "language_info": {
      "name": "python"
    }
  },
  "cells": [
    {
      "cell_type": "markdown",
      "metadata": {
        "id": "view-in-github",
        "colab_type": "text"
      },
      "source": [
        "<a href=\"https://colab.research.google.com/github/RamosCatalina/Data-for-Good/blob/main/PDF_tables_financial_files.ipynb\" target=\"_parent\"><img src=\"https://colab.research.google.com/assets/colab-badge.svg\" alt=\"Open In Colab\"/></a>"
      ]
    },
    {
      "cell_type": "markdown",
      "source": [
        "\n",
        "# **EXTRACT TABLES FROM PDF**"
      ],
      "metadata": {
        "id": "iPGCKp80PXu_"
      }
    },
    {
      "cell_type": "code",
      "execution_count": null,
      "metadata": {
        "id": "_SWhNSfWPHYB"
      },
      "outputs": [],
      "source": [
        "# mount google drive into colab\n",
        "from google.colab import drive\n",
        "drive.mount('/content/drive')"
      ]
    },
    {
      "cell_type": "code",
      "source": [
        "cd /content/drive/My Drive/DART/"
      ],
      "metadata": {
        "id": "yCA4BtQrPYfI"
      },
      "execution_count": null,
      "outputs": []
    },
    {
      "cell_type": "code",
      "source": [
        "import os\n",
        "os.chdir(\"/content/drive/My Drive/DART\")\n",
        "!ls"
      ],
      "metadata": {
        "id": "8D99aQvaPiWJ"
      },
      "execution_count": null,
      "outputs": []
    },
    {
      "cell_type": "code",
      "source": [
        "pip install camelot-py[cv] tabula-py"
      ],
      "metadata": {
        "id": "jc7m3HO0Pjcb"
      },
      "execution_count": null,
      "outputs": []
    },
    {
      "cell_type": "code",
      "source": [
        "import tkinter\n",
        "import os\n",
        "import pandas as pd\n",
        "import tabulate\n",
        "import socket\n",
        "import glob\n",
        "import tabula\n",
        "import string"
      ],
      "metadata": {
        "id": "j48dmIPYPm0G"
      },
      "execution_count": null,
      "outputs": []
    },
    {
      "cell_type": "code",
      "source": [
        "#multiple pdf tables into cvs\n",
        "tabula.convert_into_by_batch(\"Executives and Employees\", output_format=\"csv\", pages=\"all\",lattice=True)"
      ],
      "metadata": {
        "id": "hYXnrUDXPm3O"
      },
      "execution_count": null,
      "outputs": []
    },
    {
      "cell_type": "markdown",
      "source": [
        "# **READ ALL CSV TABLES AS PANDAS DATA FRAME**"
      ],
      "metadata": {
        "id": "aBJFIJwqPyvH"
      }
    },
    {
      "cell_type": "code",
      "source": [
        "#OPTION 1- Output: save all CSV files as separated CSV files. To folder IP2\n",
        "\n",
        "def pl(x,name):\n",
        "    n=list(string.ascii_lowercase[:24])\n",
        "    df=pd.read_csv(x, names = n )\n",
        "    df_2=df[df.columns[0:]].apply(lambda x: ' '.join(x.dropna().astype(str)),axis=1)\n",
        "    df_2.iloc[:].str.replace(\"\\r\", \"\").str.replace(r'[^0-9a-zA-Z ]', ' ', regex=True).to_csv(str(x)+\".csv\")"
      ],
      "metadata": {
        "id": "Kl5HcMafP1G5"
      },
      "execution_count": null,
      "outputs": []
    },
    {
      "cell_type": "code",
      "source": [
        "path=\"/content/drive/My Drive/DART/Tables/Investor protection tables cvs/\"\n",
        "csv_files=glob.glob(path+\"/*.csv\")\n",
        "name=0\n",
        "for i in csv_files:\n",
        "    name+=1\n",
        "    pl(i,name)"
      ],
      "metadata": {
        "id": "cg8bXMfSP6u3"
      },
      "execution_count": null,
      "outputs": []
    },
    {
      "cell_type": "code",
      "source": [
        "#Metadata:  File name in rows and save as a single csv\n",
        "def pl_a(x):\n",
        "    a=pd.read_csv(x)\n",
        "    a.insert(loc=2, column=\"Company\", value=os.path.basename(f))\n",
        "    a.drop(a.columns[0], axis=1, inplace=True)\n",
        "    return a"
      ],
      "metadata": {
        "id": "vbYrIFUyQESr"
      },
      "execution_count": null,
      "outputs": []
    },
    {
      "cell_type": "code",
      "source": [
        "path_ip = \"/content/drive/My Drive/DART/Tables/IP2\"\n",
        "csv_files_ip = glob.glob(path_ip + \"/*.csv\")\n",
        "\n",
        "start=0\n",
        "for f in csv_files_ip:\n",
        "  if start==0:\n",
        "    output=pl_a(f)\n",
        "    start=1\n",
        "  else:\n",
        "    output = pd.concat([output, pl_a(f)])\n",
        "    \n",
        "output.to_csv('Investor Protection tables.csv')"
      ],
      "metadata": {
        "id": "3P7ZYiBGQJyq"
      },
      "execution_count": null,
      "outputs": []
    }
  ]
}